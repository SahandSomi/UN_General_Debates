{
 "cells": [
  {
   "cell_type": "code",
   "execution_count": 1,
   "metadata": {},
   "outputs": [],
   "source": [
    "import pandas as pd\n",
    "\n",
    "Speakers_by_session_path = \"../data/raw/Speakers_by_session.csv\"\n",
    "Text_by_session_path = \"../data/raw/un-general-debates.csv\""
   ]
  },
  {
   "cell_type": "code",
   "execution_count": 2,
   "metadata": {},
   "outputs": [],
   "source": [
    "df_Text_by_session = pd.read_csv(Text_by_session_path)\n",
    "df_Speakers_by_session = pd.read_csv(Speakers_by_session_path)"
   ]
  },
  {
   "cell_type": "markdown",
   "metadata": {},
   "source": [
    "# Speakers dataframe"
   ]
  },
  {
   "cell_type": "code",
   "execution_count": 3,
   "metadata": {},
   "outputs": [
    {
     "data": {
      "text/plain": [
       "7704"
      ]
     },
     "execution_count": 3,
     "metadata": {},
     "output_type": "execute_result"
    }
   ],
   "source": [
    "len(df_Speakers_by_session)"
   ]
  },
  {
   "cell_type": "code",
   "execution_count": 4,
   "metadata": {},
   "outputs": [
    {
     "data": {
      "text/plain": [
       "Year                       float64\n",
       "Session                    float64\n",
       "ISO Code                    object\n",
       "Country                     object\n",
       "Name of Person Speaking     object\n",
       "Post                        object\n",
       "Language                    object\n",
       "Notes                       object\n",
       "dtype: object"
      ]
     },
     "execution_count": 4,
     "metadata": {},
     "output_type": "execute_result"
    }
   ],
   "source": [
    "df_Speakers_by_session.dtypes"
   ]
  },
  {
   "cell_type": "code",
   "execution_count": 5,
   "metadata": {},
   "outputs": [
    {
     "data": {
      "text/plain": [
       "Year                        191\n",
       "Session                     191\n",
       "ISO Code                    192\n",
       "Country                     191\n",
       "Name of Person Speaking     199\n",
       "Post                       3197\n",
       "Language                   3649\n",
       "Notes                      6421\n",
       "dtype: int64"
      ]
     },
     "execution_count": 5,
     "metadata": {},
     "output_type": "execute_result"
    }
   ],
   "source": [
    "df_Speakers_by_session.isna().sum()"
   ]
  },
  {
   "cell_type": "code",
   "execution_count": 6,
   "metadata": {},
   "outputs": [
    {
     "data": {
      "text/html": [
       "<div>\n",
       "<style scoped>\n",
       "    .dataframe tbody tr th:only-of-type {\n",
       "        vertical-align: middle;\n",
       "    }\n",
       "\n",
       "    .dataframe tbody tr th {\n",
       "        vertical-align: top;\n",
       "    }\n",
       "\n",
       "    .dataframe thead th {\n",
       "        text-align: right;\n",
       "    }\n",
       "</style>\n",
       "<table border=\"1\" class=\"dataframe\">\n",
       "  <thead>\n",
       "    <tr style=\"text-align: right;\">\n",
       "      <th></th>\n",
       "      <th>Year</th>\n",
       "      <th>Session</th>\n",
       "      <th>ISO Code</th>\n",
       "      <th>Country</th>\n",
       "      <th>Name of Person Speaking</th>\n",
       "      <th>Post</th>\n",
       "      <th>Language</th>\n",
       "      <th>Notes</th>\n",
       "    </tr>\n",
       "  </thead>\n",
       "  <tbody>\n",
       "    <tr>\n",
       "      <th>0</th>\n",
       "      <td>2015.0</td>\n",
       "      <td>70.0</td>\n",
       "      <td>AFG</td>\n",
       "      <td>Afghanistan</td>\n",
       "      <td>Mr. Abdullah Abdullah</td>\n",
       "      <td>Chief Executive Officer</td>\n",
       "      <td>English</td>\n",
       "      <td>NaN</td>\n",
       "    </tr>\n",
       "    <tr>\n",
       "      <th>2</th>\n",
       "      <td>2015.0</td>\n",
       "      <td>70.0</td>\n",
       "      <td>ALB</td>\n",
       "      <td>Albania</td>\n",
       "      <td>Mr. Edi Rama</td>\n",
       "      <td>Prime minister</td>\n",
       "      <td>English</td>\n",
       "      <td>NaN</td>\n",
       "    </tr>\n",
       "    <tr>\n",
       "      <th>4</th>\n",
       "      <td>2015.0</td>\n",
       "      <td>70.0</td>\n",
       "      <td>ARE</td>\n",
       "      <td>United Arab Emirates</td>\n",
       "      <td>Sheikh Abdullah Bin Zayed Al Nahyan</td>\n",
       "      <td>Minister for Foreign Affairs</td>\n",
       "      <td>Arabic</td>\n",
       "      <td>NaN</td>\n",
       "    </tr>\n",
       "    <tr>\n",
       "      <th>5</th>\n",
       "      <td>2015.0</td>\n",
       "      <td>70.0</td>\n",
       "      <td>ARG</td>\n",
       "      <td>Argentina</td>\n",
       "      <td>Cristina Fernández</td>\n",
       "      <td>President</td>\n",
       "      <td>Spanish</td>\n",
       "      <td>NaN</td>\n",
       "    </tr>\n",
       "    <tr>\n",
       "      <th>6</th>\n",
       "      <td>2015.0</td>\n",
       "      <td>70.0</td>\n",
       "      <td>ARM</td>\n",
       "      <td>Armenia</td>\n",
       "      <td>Mr. Serzh Sargsyan</td>\n",
       "      <td>President</td>\n",
       "      <td>Armenian</td>\n",
       "      <td>NaN</td>\n",
       "    </tr>\n",
       "    <tr>\n",
       "      <th>...</th>\n",
       "      <td>...</td>\n",
       "      <td>...</td>\n",
       "      <td>...</td>\n",
       "      <td>...</td>\n",
       "      <td>...</td>\n",
       "      <td>...</td>\n",
       "      <td>...</td>\n",
       "      <td>...</td>\n",
       "    </tr>\n",
       "    <tr>\n",
       "      <th>7699</th>\n",
       "      <td>NaN</td>\n",
       "      <td>NaN</td>\n",
       "      <td>NaN</td>\n",
       "      <td>NaN</td>\n",
       "      <td>NaN</td>\n",
       "      <td>NaN</td>\n",
       "      <td>NaN</td>\n",
       "      <td>NaN</td>\n",
       "    </tr>\n",
       "    <tr>\n",
       "      <th>7700</th>\n",
       "      <td>NaN</td>\n",
       "      <td>NaN</td>\n",
       "      <td>NaN</td>\n",
       "      <td>NaN</td>\n",
       "      <td>NaN</td>\n",
       "      <td>NaN</td>\n",
       "      <td>NaN</td>\n",
       "      <td>NaN</td>\n",
       "    </tr>\n",
       "    <tr>\n",
       "      <th>7701</th>\n",
       "      <td>NaN</td>\n",
       "      <td>NaN</td>\n",
       "      <td>NaN</td>\n",
       "      <td>NaN</td>\n",
       "      <td>NaN</td>\n",
       "      <td>NaN</td>\n",
       "      <td>NaN</td>\n",
       "      <td>NaN</td>\n",
       "    </tr>\n",
       "    <tr>\n",
       "      <th>7702</th>\n",
       "      <td>NaN</td>\n",
       "      <td>NaN</td>\n",
       "      <td>NaN</td>\n",
       "      <td>NaN</td>\n",
       "      <td>NaN</td>\n",
       "      <td>NaN</td>\n",
       "      <td>NaN</td>\n",
       "      <td>NaN</td>\n",
       "    </tr>\n",
       "    <tr>\n",
       "      <th>7703</th>\n",
       "      <td>NaN</td>\n",
       "      <td>NaN</td>\n",
       "      <td>NaN</td>\n",
       "      <td>NaN</td>\n",
       "      <td>NaN</td>\n",
       "      <td>NaN</td>\n",
       "      <td>NaN</td>\n",
       "      <td>NaN</td>\n",
       "    </tr>\n",
       "  </tbody>\n",
       "</table>\n",
       "<p>6937 rows × 8 columns</p>\n",
       "</div>"
      ],
      "text/plain": [
       "        Year  Session ISO Code               Country  \\\n",
       "0     2015.0     70.0      AFG           Afghanistan   \n",
       "2     2015.0     70.0      ALB               Albania   \n",
       "4     2015.0     70.0      ARE  United Arab Emirates   \n",
       "5     2015.0     70.0      ARG             Argentina   \n",
       "6     2015.0     70.0      ARM               Armenia   \n",
       "...      ...      ...      ...                   ...   \n",
       "7699     NaN      NaN      NaN                   NaN   \n",
       "7700     NaN      NaN      NaN                   NaN   \n",
       "7701     NaN      NaN      NaN                   NaN   \n",
       "7702     NaN      NaN      NaN                   NaN   \n",
       "7703     NaN      NaN      NaN                   NaN   \n",
       "\n",
       "                  Name of Person Speaking                          Post  \\\n",
       "0                   Mr. Abdullah Abdullah       Chief Executive Officer   \n",
       "2                            Mr. Edi Rama                Prime minister   \n",
       "4     Sheikh Abdullah Bin Zayed Al Nahyan  Minister for Foreign Affairs   \n",
       "5                      Cristina Fernández                     President   \n",
       "6                      Mr. Serzh Sargsyan                     President   \n",
       "...                                   ...                           ...   \n",
       "7699                                  NaN                           NaN   \n",
       "7700                                  NaN                           NaN   \n",
       "7701                                  NaN                           NaN   \n",
       "7702                                  NaN                           NaN   \n",
       "7703                                  NaN                           NaN   \n",
       "\n",
       "      Language Notes  \n",
       "0      English   NaN  \n",
       "2      English   NaN  \n",
       "4       Arabic   NaN  \n",
       "5      Spanish   NaN  \n",
       "6     Armenian   NaN  \n",
       "...        ...   ...  \n",
       "7699       NaN   NaN  \n",
       "7700       NaN   NaN  \n",
       "7701       NaN   NaN  \n",
       "7702       NaN   NaN  \n",
       "7703       NaN   NaN  \n",
       "\n",
       "[6937 rows x 8 columns]"
      ]
     },
     "execution_count": 6,
     "metadata": {},
     "output_type": "execute_result"
    }
   ],
   "source": [
    "# Check missing values\n",
    "\n",
    "df_Speakers_by_session[df_Speakers_by_session.isna().any(axis=1)]"
   ]
  },
  {
   "cell_type": "code",
   "execution_count": 7,
   "metadata": {},
   "outputs": [],
   "source": [
    "# Drop missing values\n",
    "df_Speakers_by_session = df_Speakers_by_session.dropna(subset=['Year', 'Session','ISO Code','Country'])\n",
    "\n",
    "# drop Post, Language, Notes Column\n",
    "df_Speakers_by_session.drop([\"Post\", \"Language\", \"Notes\" ], axis=1, inplace=True)\n",
    "df_Speakers_by_session.dropna(inplace=True)"
   ]
  },
  {
   "cell_type": "code",
   "execution_count": 8,
   "metadata": {},
   "outputs": [
    {
     "data": {
      "text/plain": [
       "7504"
      ]
     },
     "execution_count": 8,
     "metadata": {},
     "output_type": "execute_result"
    }
   ],
   "source": [
    "len(df_Speakers_by_session)"
   ]
  },
  {
   "cell_type": "code",
   "execution_count": 9,
   "metadata": {},
   "outputs": [],
   "source": [
    "df_Speakers_by_session['Year'] = df_Speakers_by_session['Year'].astype('int64')\n",
    "df_Speakers_by_session['Session'] = df_Speakers_by_session['Session'].astype('int64')\n",
    "df_Speakers_by_session['Name of Person Speaking'] = df_Speakers_by_session['Name of Person Speaking'].astype('str')\n",
    "df_Speakers_by_session['ISO Code'] = df_Speakers_by_session['ISO Code'].astype('str')\n",
    "df_Speakers_by_session['Country'] = df_Speakers_by_session['Country'].astype('str')\n",
    "\n",
    "# Rename columns\n",
    "df_Speakers_by_session = df_Speakers_by_session.rename(columns={'Year': 'year', 'Session': 'session', 'ISO Code':'code'})"
   ]
  },
  {
   "cell_type": "code",
   "execution_count": 10,
   "metadata": {},
   "outputs": [
    {
     "data": {
      "text/plain": [
       "year                        int64\n",
       "session                     int64\n",
       "code                       object\n",
       "Country                    object\n",
       "Name of Person Speaking    object\n",
       "dtype: object"
      ]
     },
     "execution_count": 10,
     "metadata": {},
     "output_type": "execute_result"
    }
   ],
   "source": [
    "df_Speakers_by_session.dtypes"
   ]
  },
  {
   "cell_type": "markdown",
   "metadata": {},
   "source": [
    "# Text Dataframe"
   ]
  },
  {
   "cell_type": "code",
   "execution_count": 11,
   "metadata": {},
   "outputs": [
    {
     "data": {
      "text/plain": [
       "7507"
      ]
     },
     "execution_count": 11,
     "metadata": {},
     "output_type": "execute_result"
    }
   ],
   "source": [
    "len(df_Text_by_session)"
   ]
  },
  {
   "cell_type": "code",
   "execution_count": 12,
   "metadata": {},
   "outputs": [
    {
     "data": {
      "text/plain": [
       "session     int64\n",
       "year        int64\n",
       "country    object\n",
       "text       object\n",
       "dtype: object"
      ]
     },
     "execution_count": 12,
     "metadata": {},
     "output_type": "execute_result"
    }
   ],
   "source": [
    "df_Text_by_session.dtypes"
   ]
  },
  {
   "cell_type": "code",
   "execution_count": 13,
   "metadata": {},
   "outputs": [
    {
     "data": {
      "text/plain": [
       "session    0\n",
       "year       0\n",
       "country    0\n",
       "text       0\n",
       "dtype: int64"
      ]
     },
     "execution_count": 13,
     "metadata": {},
     "output_type": "execute_result"
    }
   ],
   "source": [
    "df_Text_by_session.isna().sum()"
   ]
  },
  {
   "cell_type": "code",
   "execution_count": 14,
   "metadata": {},
   "outputs": [],
   "source": [
    "df_Text_by_session['text'] = df_Text_by_session['text'].astype('str')\n",
    "df_Text_by_session['country'] = df_Text_by_session['country'].astype('str')"
   ]
  },
  {
   "cell_type": "code",
   "execution_count": 15,
   "metadata": {},
   "outputs": [],
   "source": [
    "df_Text_by_session = df_Text_by_session.rename(columns={'country': 'code'})"
   ]
  },
  {
   "cell_type": "markdown",
   "metadata": {},
   "source": [
    "# Merge Both dataframes"
   ]
  },
  {
   "cell_type": "code",
   "execution_count": 16,
   "metadata": {},
   "outputs": [],
   "source": [
    "merged_df = df_Speakers_by_session.merge(df_Text_by_session, on=['year', 'session', 'code'], how='outer')"
   ]
  },
  {
   "cell_type": "code",
   "execution_count": 17,
   "metadata": {},
   "outputs": [
    {
     "data": {
      "text/html": [
       "<div>\n",
       "<style scoped>\n",
       "    .dataframe tbody tr th:only-of-type {\n",
       "        vertical-align: middle;\n",
       "    }\n",
       "\n",
       "    .dataframe tbody tr th {\n",
       "        vertical-align: top;\n",
       "    }\n",
       "\n",
       "    .dataframe thead th {\n",
       "        text-align: right;\n",
       "    }\n",
       "</style>\n",
       "<table border=\"1\" class=\"dataframe\">\n",
       "  <thead>\n",
       "    <tr style=\"text-align: right;\">\n",
       "      <th></th>\n",
       "      <th>year</th>\n",
       "      <th>session</th>\n",
       "      <th>code</th>\n",
       "      <th>Country</th>\n",
       "      <th>Name of Person Speaking</th>\n",
       "      <th>text</th>\n",
       "    </tr>\n",
       "  </thead>\n",
       "  <tbody>\n",
       "    <tr>\n",
       "      <th>435</th>\n",
       "      <td>2013</td>\n",
       "      <td>68</td>\n",
       "      <td>EC</td>\n",
       "      <td>European Council</td>\n",
       "      <td>Herman Van Rompuy</td>\n",
       "      <td>NaN</td>\n",
       "    </tr>\n",
       "    <tr>\n",
       "      <th>824</th>\n",
       "      <td>2011</td>\n",
       "      <td>66</td>\n",
       "      <td>EC</td>\n",
       "      <td>European Council</td>\n",
       "      <td>Herman Van Rompuy</td>\n",
       "      <td>NaN</td>\n",
       "    </tr>\n",
       "    <tr>\n",
       "      <th>2709</th>\n",
       "      <td>2001</td>\n",
       "      <td>56</td>\n",
       "      <td>CHE</td>\n",
       "      <td>Sweden</td>\n",
       "      <td>Anna Lindh</td>\n",
       "      <td>NaN</td>\n",
       "    </tr>\n",
       "    <tr>\n",
       "      <th>4788</th>\n",
       "      <td>1989</td>\n",
       "      <td>44</td>\n",
       "      <td>BTN</td>\n",
       "      <td>Bhutan</td>\n",
       "      <td>Mr Tsering</td>\n",
       "      <td>NaN</td>\n",
       "    </tr>\n",
       "    <tr>\n",
       "      <th>4883</th>\n",
       "      <td>1989</td>\n",
       "      <td>44</td>\n",
       "      <td>PSE</td>\n",
       "      <td>Palestine, State of</td>\n",
       "      <td>Terzi</td>\n",
       "      <td>NaN</td>\n",
       "    </tr>\n",
       "    <tr>\n",
       "      <th>5190</th>\n",
       "      <td>1987</td>\n",
       "      <td>42</td>\n",
       "      <td>PSE</td>\n",
       "      <td>Palestine</td>\n",
       "      <td>Mr. Terzi</td>\n",
       "      <td>NaN</td>\n",
       "    </tr>\n",
       "    <tr>\n",
       "      <th>5302</th>\n",
       "      <td>1986</td>\n",
       "      <td>41</td>\n",
       "      <td>KHM</td>\n",
       "      <td>Cambodia /Kampuchea</td>\n",
       "      <td>Norodom SIHANOUK</td>\n",
       "      <td>NaN</td>\n",
       "    </tr>\n",
       "    <tr>\n",
       "      <th>5465</th>\n",
       "      <td>1985</td>\n",
       "      <td>40</td>\n",
       "      <td>NIC</td>\n",
       "      <td>Nicaragua</td>\n",
       "      <td>Mr. Chamorro Mora</td>\n",
       "      <td>NaN</td>\n",
       "    </tr>\n",
       "    <tr>\n",
       "      <th>5662</th>\n",
       "      <td>1984</td>\n",
       "      <td>39</td>\n",
       "      <td>ZMB</td>\n",
       "      <td>Zambia</td>\n",
       "      <td>Goma</td>\n",
       "      <td>NaN</td>\n",
       "    </tr>\n",
       "    <tr>\n",
       "      <th>5775</th>\n",
       "      <td>1983</td>\n",
       "      <td>38</td>\n",
       "      <td>PSE</td>\n",
       "      <td>Palestine</td>\n",
       "      <td>Terzi</td>\n",
       "      <td>NaN</td>\n",
       "    </tr>\n",
       "    <tr>\n",
       "      <th>5975</th>\n",
       "      <td>1981</td>\n",
       "      <td>36</td>\n",
       "      <td>BLZ</td>\n",
       "      <td>Belize</td>\n",
       "      <td>Mr Leslie</td>\n",
       "      <td>NaN</td>\n",
       "    </tr>\n",
       "    <tr>\n",
       "      <th>6013</th>\n",
       "      <td>1981</td>\n",
       "      <td>36</td>\n",
       "      <td>GIN</td>\n",
       "      <td>Guinea</td>\n",
       "      <td>Mr. TOUNE</td>\n",
       "      <td>NaN</td>\n",
       "    </tr>\n",
       "    <tr>\n",
       "      <th>6035</th>\n",
       "      <td>1981</td>\n",
       "      <td>36</td>\n",
       "      <td>KHM</td>\n",
       "      <td>Democratic Kampuchea</td>\n",
       "      <td>Mr. IENG SARY</td>\n",
       "      <td>NaN</td>\n",
       "    </tr>\n",
       "    <tr>\n",
       "      <th>6070</th>\n",
       "      <td>1981</td>\n",
       "      <td>36</td>\n",
       "      <td>PSE</td>\n",
       "      <td>Palestine</td>\n",
       "      <td>Mr. ABDEL MEGUID</td>\n",
       "      <td>NaN</td>\n",
       "    </tr>\n",
       "    <tr>\n",
       "      <th>6101</th>\n",
       "      <td>1981</td>\n",
       "      <td>36</td>\n",
       "      <td>YDYE</td>\n",
       "      <td>Democratic Yemen</td>\n",
       "      <td>Mr. MOHAMMED</td>\n",
       "      <td>NaN</td>\n",
       "    </tr>\n",
       "    <tr>\n",
       "      <th>6305</th>\n",
       "      <td>1979</td>\n",
       "      <td>34</td>\n",
       "      <td>GIN</td>\n",
       "      <td>Guinea</td>\n",
       "      <td>Tourd</td>\n",
       "      <td>NaN</td>\n",
       "    </tr>\n",
       "    <tr>\n",
       "      <th>6327</th>\n",
       "      <td>1979</td>\n",
       "      <td>34</td>\n",
       "      <td>KHM</td>\n",
       "      <td>Democratic Kampuchea</td>\n",
       "      <td>Leng Sary</td>\n",
       "      <td>NaN</td>\n",
       "    </tr>\n",
       "    <tr>\n",
       "      <th>6365</th>\n",
       "      <td>1979</td>\n",
       "      <td>34</td>\n",
       "      <td>PSE</td>\n",
       "      <td>Palestine Liberation Organization</td>\n",
       "      <td>Terzi</td>\n",
       "      <td>NaN</td>\n",
       "    </tr>\n",
       "    <tr>\n",
       "      <th>6396</th>\n",
       "      <td>1979</td>\n",
       "      <td>34</td>\n",
       "      <td>YDYE</td>\n",
       "      <td>Democratic Yemen</td>\n",
       "      <td>Mohammed</td>\n",
       "      <td>NaN</td>\n",
       "    </tr>\n",
       "    <tr>\n",
       "      <th>6647</th>\n",
       "      <td>1977</td>\n",
       "      <td>32</td>\n",
       "      <td>PSE</td>\n",
       "      <td>Palestine</td>\n",
       "      <td>Kaddoumi</td>\n",
       "      <td>NaN</td>\n",
       "    </tr>\n",
       "    <tr>\n",
       "      <th>6677</th>\n",
       "      <td>1977</td>\n",
       "      <td>32</td>\n",
       "      <td>VNM</td>\n",
       "      <td>Viet Nam</td>\n",
       "      <td>Nguyen Ngoc Dung</td>\n",
       "      <td>NaN</td>\n",
       "    </tr>\n",
       "    <tr>\n",
       "      <th>7080</th>\n",
       "      <td>1973</td>\n",
       "      <td>28</td>\n",
       "      <td>BEN</td>\n",
       "      <td>Dahomey</td>\n",
       "      <td>Alladaye</td>\n",
       "      <td>NaN</td>\n",
       "    </tr>\n",
       "    <tr>\n",
       "      <th>7115</th>\n",
       "      <td>1973</td>\n",
       "      <td>28</td>\n",
       "      <td>GNQ</td>\n",
       "      <td>Equatorial Guinea</td>\n",
       "      <td>Esonomica</td>\n",
       "      <td>NaN</td>\n",
       "    </tr>\n",
       "    <tr>\n",
       "      <th>7357</th>\n",
       "      <td>1971</td>\n",
       "      <td>26</td>\n",
       "      <td>GTM</td>\n",
       "      <td>Guatemala</td>\n",
       "      <td>Mr. Herrera-Ivarguen</td>\n",
       "      <td>NaN</td>\n",
       "    </tr>\n",
       "  </tbody>\n",
       "</table>\n",
       "</div>"
      ],
      "text/plain": [
       "      year  session   code                             Country  \\\n",
       "435   2013       68     EC                    European Council   \n",
       "824   2011       66     EC                    European Council   \n",
       "2709  2001       56    CHE                              Sweden   \n",
       "4788  1989       44    BTN                              Bhutan   \n",
       "4883  1989       44    PSE                 Palestine, State of   \n",
       "5190  1987       42    PSE                          Palestine    \n",
       "5302  1986       41   KHM                  Cambodia /Kampuchea   \n",
       "5465  1985       40    NIC                           Nicaragua   \n",
       "5662  1984       39    ZMB                              Zambia   \n",
       "5775  1983       38    PSE                          Palestine    \n",
       "5975  1981       36    BLZ                             Belize    \n",
       "6013  1981       36   GIN                               Guinea   \n",
       "6035  1981       36   KHM                 Democratic Kampuchea   \n",
       "6070  1981       36    PSE                          Palestine    \n",
       "6101  1981       36  YDYE                     Democratic Yemen   \n",
       "6305  1979       34   GIN                               Guinea   \n",
       "6327  1979       34   KHM                 Democratic Kampuchea   \n",
       "6365  1979       34    PSE  Palestine Liberation Organization    \n",
       "6396  1979       34  YDYE                     Democratic Yemen   \n",
       "6647  1977       32    PSE                           Palestine   \n",
       "6677  1977       32    VNM                            Viet Nam   \n",
       "7080  1973       28   BEN                              Dahomey   \n",
       "7115  1973       28    GNQ                   Equatorial Guinea   \n",
       "7357  1971       26   GTM                           Guatemala    \n",
       "\n",
       "     Name of Person Speaking text  \n",
       "435        Herman Van Rompuy  NaN  \n",
       "824        Herman Van Rompuy  NaN  \n",
       "2709              Anna Lindh  NaN  \n",
       "4788              Mr Tsering  NaN  \n",
       "4883                   Terzi  NaN  \n",
       "5190               Mr. Terzi  NaN  \n",
       "5302        Norodom SIHANOUK  NaN  \n",
       "5465       Mr. Chamorro Mora  NaN  \n",
       "5662                    Goma  NaN  \n",
       "5775                   Terzi  NaN  \n",
       "5975               Mr Leslie  NaN  \n",
       "6013               Mr. TOUNE  NaN  \n",
       "6035           Mr. IENG SARY  NaN  \n",
       "6070        Mr. ABDEL MEGUID  NaN  \n",
       "6101            Mr. MOHAMMED  NaN  \n",
       "6305                   Tourd  NaN  \n",
       "6327               Leng Sary  NaN  \n",
       "6365                   Terzi  NaN  \n",
       "6396                Mohammed  NaN  \n",
       "6647                Kaddoumi  NaN  \n",
       "6677        Nguyen Ngoc Dung  NaN  \n",
       "7080                Alladaye  NaN  \n",
       "7115               Esonomica  NaN  \n",
       "7357   Mr. Herrera-Ivarguen   NaN  "
      ]
     },
     "execution_count": 17,
     "metadata": {},
     "output_type": "execute_result"
    }
   ],
   "source": [
    "merged_df[merged_df['text'].isna()]"
   ]
  },
  {
   "cell_type": "code",
   "execution_count": 18,
   "metadata": {},
   "outputs": [],
   "source": [
    "merged_df = merged_df.dropna(subset=['text'])"
   ]
  },
  {
   "cell_type": "code",
   "execution_count": 19,
   "metadata": {},
   "outputs": [
    {
     "data": {
      "text/plain": [
       "7508"
      ]
     },
     "execution_count": 19,
     "metadata": {},
     "output_type": "execute_result"
    }
   ],
   "source": [
    "len(merged_df)"
   ]
  },
  {
   "cell_type": "markdown",
   "metadata": {},
   "source": [
    "# Text Preprocessing: lowercasing, removing punctuation, stopwords"
   ]
  },
  {
   "cell_type": "code",
   "execution_count": 20,
   "metadata": {},
   "outputs": [],
   "source": [
    "merged_df[\"text\"] = merged_df[\"text\"].str.lower()\n",
    "merged_df['text'] = merged_df['text'].str.replace(r\"\\d+\\.\", '', regex=True) # Replace start point number\n",
    "merged_df['text'] = merged_df['text'].str.replace(r'[^\\w\\s]', '', regex=True)\n",
    "\n",
    "merged_df['Country'] = merged_df['Country'].str.replace(r\"\\s+$\", '', regex=True)\n",
    "merged_df['Name of Person Speaking'] = merged_df['Name of Person Speaking'].str.lower()"
   ]
  },
  {
   "cell_type": "code",
   "execution_count": 21,
   "metadata": {},
   "outputs": [],
   "source": [
    "# Function to extract last name from full name\n",
    "def extract_last_name(full_name):\n",
    "    # Split the full name by space and get the last element (last name)\n",
    "    try:\n",
    "        names = full_name.split()\n",
    "        last_name = names[-1] if names else ''\n",
    "        # Capitalize the first letter of the word\n",
    "        last_name = \"Mr. \" + last_name[0].upper() + last_name[1:]\n",
    "    \n",
    "    except:\n",
    "        last_name = \"Unknown\"\n",
    "    return last_name\n",
    "\n",
    "# Apply the function to the 'Full Name' column to create a new column 'Last Name'\n",
    "merged_df['Name of Person Speaking'] = merged_df['Name of Person Speaking'].apply(extract_last_name)\n",
    "merged_df = merged_df[merged_df['Name of Person Speaking'] != 'Unknown']\n",
    "merged_df['Name of Person Speaking'] = merged_df['Name of Person Speaking'].str.replace(r\"\\s+$\", '', regex=True)"
   ]
  },
  {
   "cell_type": "code",
   "execution_count": 22,
   "metadata": {},
   "outputs": [
    {
     "name": "stderr",
     "output_type": "stream",
     "text": [
      "c:\\Users\\sahan\\miniconda3\\envs\\UN\\Lib\\site-packages\\fuzzywuzzy\\fuzz.py:11: UserWarning: Using slow pure-python SequenceMatcher. Install python-Levenshtein to remove this warning\n",
      "  warnings.warn('Using slow pure-python SequenceMatcher. Install python-Levenshtein to remove this warning')\n"
     ]
    }
   ],
   "source": [
    "from fuzzywuzzy import fuzz\n",
    "def is_duplicate(name1, name2):\n",
    "    similarity = fuzz.token_set_ratio(name1, name2)\n",
    "    return similarity >= 80\n",
    "\n",
    "def remove_duplicates(names_list):\n",
    "    duplicates_indices = {}\n",
    "\n",
    "    for i in range(len(names_list)):\n",
    "        if i not in duplicates_indices:\n",
    "            for j in range(i + 1, len(names_list)):\n",
    "                if is_duplicate(names_list[i], names_list[j]):\n",
    "                    duplicates_indices[j] = names_list[i]\n",
    "\n",
    "    filtered_list = [name if i not in duplicates_indices else duplicates_indices[i] for i, name in enumerate(names_list)]\n",
    "    return filtered_list"
   ]
  },
  {
   "cell_type": "code",
   "execution_count": 23,
   "metadata": {},
   "outputs": [],
   "source": [
    "code_name = merged_df[\"code\"].unique()\n",
    "\n",
    "for c_name in code_name:\n",
    "    temp_df = merged_df[merged_df[\"code\"] == c_name]\n",
    "    name_of_country = temp_df[\"Country\"].tolist()\n",
    "\n",
    "    merged_df.loc[merged_df[\"code\"] == c_name, \"Country\"] = remove_duplicates(name_of_country)\n",
    "\n",
    "country_name = merged_df[\"Country\"].unique()\n",
    "\n",
    "for c_name in country_name:\n",
    "    temp_df = merged_df[merged_df[\"Country\"] == c_name]\n",
    "    name_of_leader = temp_df[\"Name of Person Speaking\"].tolist()\n",
    "\n",
    "    merged_df.loc[merged_df[\"Country\"] == c_name, \"Name of Person Speaking\"] = remove_duplicates(name_of_leader)\n",
    "\n",
    "\n",
    "\n"
   ]
  },
  {
   "cell_type": "code",
   "execution_count": 24,
   "metadata": {},
   "outputs": [
    {
     "name": "stderr",
     "output_type": "stream",
     "text": [
      "[nltk_data] Downloading package stopwords to\n",
      "[nltk_data]     C:\\Users\\sahan\\AppData\\Roaming\\nltk_data...\n",
      "[nltk_data]   Package stopwords is already up-to-date!\n"
     ]
    }
   ],
   "source": [
    "import nltk\n",
    "nltk.download('stopwords')\n",
    "from nltk.corpus import stopwords\n",
    "\n",
    "def remove_stopwords(text):\n",
    "    stop_words = set(stopwords.words('english'))\n",
    "    try:\n",
    "      words = text.split()\n",
    "      filtered_words = [word for word in words if word.lower() not in stop_words]\n",
    "      return ' '.join(filtered_words)\n",
    "\n",
    "    except:\n",
    "      print(text)\n",
    "\n",
    "merged_df['text'] = merged_df['text'].apply(remove_stopwords)"
   ]
  },
  {
   "cell_type": "code",
   "execution_count": null,
   "metadata": {},
   "outputs": [],
   "source": [
    "merged_df.to_excel(\"../data/preprocessed/merged_df.xlsx\", index=False)"
   ]
  }
 ],
 "metadata": {
  "kernelspec": {
   "display_name": "UN",
   "language": "python",
   "name": "python3"
  },
  "language_info": {
   "codemirror_mode": {
    "name": "ipython",
    "version": 3
   },
   "file_extension": ".py",
   "mimetype": "text/x-python",
   "name": "python",
   "nbconvert_exporter": "python",
   "pygments_lexer": "ipython3",
   "version": "3.11.4"
  },
  "orig_nbformat": 4
 },
 "nbformat": 4,
 "nbformat_minor": 2
}
